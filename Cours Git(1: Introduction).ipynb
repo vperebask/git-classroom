{
 "cells": [
  {
   "cell_type": "markdown",
   "metadata": {},
   "source": [
    "# Introduction à Git\n",
    "\n",
    "## Les dépôts\n",
    "* Un dépôt est un moyen de conserver un historique des versions et des modifications d’un projet. Il est essentiel pour travailler en équipe ou collaborer à un projet open source.\n",
    "\n",
    "* Un dépôt local situé sur la machine de l'utilisateur\n",
    "\n",
    "* Un dépôt distant est une version dématérialisée du dépôt local, que ce soit sur Internet ou sur un réseau. Il permet de centraliser le travail des développeurs dans un projet collectif.\n",
    "\n",
    "Il existe plusieurs services en ligne pour héberger un dépôt distant dont **GitHub**"
   ]
  },
  {
   "cell_type": "markdown",
   "metadata": {},
   "source": [
    "## Installer et configurer git\n",
    "\n",
    "### Créer un dépot distant\n",
    "Pour le dépôt distant on utilise [github](https://github.com). Il suffit de se créer un compte.\n",
    "Mon compte personnel :\n",
    "* id : vperebask\n",
    "* email : victor.perebaskine@gmail.com"
   ]
  },
  {
   "cell_type": "markdown",
   "metadata": {},
   "source": [
    "### Installer git localement et le configurer\n",
    "Sur MacOS ou Linux, git s'installe comme un packet. Pour configurer git on utilise la commande `git config` :\n",
    "* `git config --global ...` pour définir des variables de configuration globales a tous les projets\n",
    "* `git config ...` pour définir des variables de configuration pour un projet en particulier\n",
    "\n",
    "`git config --list [--show-origin]` pour voir l'ensemble des variables configurées\n",
    "\n",
    "### Initialiser un dépot local git dans un répertoire projet\n",
    "A la racine du projet : `git init`\n",
    "\n",
    "Une fois git installé, je préfère travailler à partir de l'IDE (voir IDE intégration). Cependant, il est important de connaitre le fonctionnement de git ainsi que les principales commandes et leurs utilisation."
   ]
  },
  {
   "cell_type": "markdown",
   "metadata": {},
   "source": [
    "## Travailler depuis un dépôt git local\n",
    "Pour travailler, git s'appuie sur 4 zones : 3 zones qui forment le dépot local et une 4ème zone qui constitue le dépôt distant\n",
    "\n",
    "<img src=\".images/im1.png\" style=\"width: 400px;\"/>\n",
    "\n",
    "* **working directory** : zone de travail - modification des fichiers à l'aide de l'IDE...\n",
    "* **stage** : zone intermédiaire ou l'on prépare la prochaine version (dépose les fichier que l'on veut faire apparaitre dans la prochaine version) - utilisation de la commande `git add`\n",
    "* **repository** : l'endroit ou l'on stocke les différentes versions - utilisation de la commande `git commit -m \"<message de commit>\"` \n",
    "\n",
    "A noter que le dépot distant est branché sur le **repository** et non sur le **working directory**"
   ]
  },
  {
   "cell_type": "markdown",
   "metadata": {},
   "source": [
    "## Travailler avec un dépôt (i.e. repo) distant\n",
    "\n",
    "### Ajouter le dépôt distant\n",
    "Le dépôt distant étant créé sur GitHub il faut ajouter le dépôt distant sur la machine locale via la commande `git remote add origin <url>`\n",
    "\n",
    "* Dans notre cas : `git remote add origin https://github.com/vperebask/git-classroom.git`\n",
    "\n",
    "Il est possible de vérifier la liste des dépots distant avec `git remote -v`\n",
    "\n",
    "Vu du poste de travail, le nom du dépôt distant est `origin` et les branches sur le dépot distant sont référencé `origin/<branche>`\n",
    "\n",
    "## Pousser le dernier commit sur le dépôt distant\n",
    "Cette opération est réalisée à l'aide de la commande `git push`: `git push -u origin master`\n",
    "\n",
    "Par défaut, le nom de la branche principale est `master`. Il est possible de changer ce nom avec la commande `git branch -M main` par exemple. Cela permet de renommer la branche `master` en `main`"
   ]
  }
 ],
 "metadata": {
  "kernelspec": {
   "display_name": "Python 3.10.6 64-bit",
   "language": "python",
   "name": "python3"
  },
  "language_info": {
   "codemirror_mode": {
    "name": "ipython",
    "version": 3
   },
   "file_extension": ".py",
   "mimetype": "text/x-python",
   "name": "python",
   "nbconvert_exporter": "python",
   "pygments_lexer": "ipython3",
   "version": "3.10.6"
  },
  "orig_nbformat": 4,
  "vscode": {
   "interpreter": {
    "hash": "b0fa6594d8f4cbf19f97940f81e996739fb7646882a419484c72d19e05852a7e"
   }
  }
 },
 "nbformat": 4,
 "nbformat_minor": 2
}
