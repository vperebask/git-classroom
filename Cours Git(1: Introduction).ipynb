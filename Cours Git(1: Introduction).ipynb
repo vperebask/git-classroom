{
 "cells": [
  {
   "cell_type": "markdown",
   "metadata": {},
   "source": [
    "# Introduction à Git\n",
    "\n",
    "## Les dépôts\n",
    "* Un dépôt est un moyen de conserver un historique des versions et des modifications d’un projet. Il est essentiel pour travailler en équipe ou collaborer à un projet open source.\n",
    "\n",
    "* Un dépôt local situé sur la machine de l'utilisateur\n",
    "\n",
    "* Un dépôt distant est une version dématérialisée du dépôt local, que ce soit sur Internet ou sur un réseau. Il permet de centraliser le travail des développeurs dans un projet collectif.\n",
    "\n",
    "Il existe plusieurs services en ligne pour héberger un dépôt distant dont **GitHub**"
   ]
  },
  {
   "cell_type": "markdown",
   "metadata": {},
   "source": [
    "## Installer et configurer git\n",
    "\n",
    "### Créer un dépot distant\n",
    "Pour le dépôt distant on utilise [github](https://github.com). Il suffit de se créer un compte.\n",
    "Mon compte personnel :\n",
    "* id : vperebask\n",
    "* email : victor.perebaskine@gmail.com"
   ]
  },
  {
   "cell_type": "markdown",
   "metadata": {},
   "source": [
    "### Installer git localement et le configurer\n",
    "Sur MacOS ou Linux, git s'installe comme un packet. Pour configurer git on utilise la commande `git config` :\n",
    "* `git config --global ...` pour définir des variables de configuration globales a tous les projets\n",
    "* `git config ...` pour définir des variables de configuration pour un projet en particulier\n",
    "\n",
    "`git config --list [--show-origin]` pour voir l'ensemble des variables configurées\n",
    "\n",
    "### Initialiser un dépot local git dans un répertoire projet\n",
    "A la racine du projet : `git init`\n",
    "\n",
    "Une fois git installé, je préfère travailler à partir de l'IDE (voir IDE intégration). Cependant, il est important de connaitre le fonctionnement de git ainsi que les principales commandes et leurs utilisation."
   ]
  },
  {
   "cell_type": "markdown",
   "metadata": {},
   "source": [
    "## Travailler depuis un dépôt git local\n",
    "Pour travailler, git s'appuie sur 4 zones : 3 zones qui forment le dépot local et une 4ème zone qui constitue le dépôt distant\n",
    "\n",
    "<img src=\".images/im1.png\" style=\"width: 400px;\"/>\n",
    "\n",
    "* **working directory** : zone de travail - modification des fichiers à l'aide de l'IDE...\n",
    "* **stage** : zone intermédiaire ou l'on prépare la prochaine version (dépose les fichier que l'on veut faire apparaitre dans la prochaine version) - utilisation de la commande `git add`\n",
    "* **repository** : l'endroit ou l'on stocke les différentes versions - utilisation de la commande `git commit -m \"<message de commit>\"` \n",
    "\n",
    "A noter que le dépot distant est branché sur le **repository** et non sur le **working directory**"
   ]
  },
  {
   "cell_type": "markdown",
   "metadata": {},
   "source": [
    "## Travailler avec un dépôt (i.e. repo) distant\n",
    "Ici on va voir comment travailler avec un répo local et ensuite mettre à jour le répo distant.\n",
    "\n",
    "### Ajouter le dépôt distant\n",
    "Le dépôt distant étant créé sur GitHub il faut ajouter le dépôt distant sur la machine locale via la commande `git remote add origin <url>`\n",
    "\n",
    "* Dans notre cas : `git remote add origin https://github.com/vperebask/git-classroom.git`\n",
    "\n",
    "Il est possible de vérifier la liste des dépots distant avec `git remote -v`\n",
    "\n",
    "Vu du poste de travail, le nom du dépôt distant est `origin` et les branches sur le dépot distant sont référencé `origin/<branche>`\n",
    "\n",
    "### Pousser le dernier commit sur le dépôt distant\n",
    "Cette opération est réalisée à l'aide de la commande `git push -u origin master`\n",
    "\n",
    "Par défaut, le nom de la branche principale est `master`. Il est possible de changer ce nom avec la commande `git branch -M main` par exemple. Cela permet de renommer la branche `master` en `main`"
   ]
  },
  {
   "cell_type": "markdown",
   "metadata": {},
   "source": [
    "## Travailler avec les branches\n",
    "La branche \"master\" (ou \"main\" depuis octobre 2020) porte l'intégralité des modification validées. L'objectif est donc de travailler sur des \"copies\" de la branche \"master\" puis d'intégrer les modification sur la branche \"master\" une celles-ci validées.\n",
    "\n",
    "Pour celà, il faut etre capable de :\n",
    "* créer une branche\n",
    "* travailler sur la nouvelle branche\n",
    "* intégrées les modifications sur la branches master, une fois celles-ci validées\n",
    "\n",
    "### Créer une branche sur le dépôt local et se positionner sur celle-ci\n",
    "Pour cela 3 commandes principales :\n",
    "* `git branch` pour voir toutes les branches existantes\n",
    "* `git branch <nom>` pour créer une nouvelle branche `<nom>`\n",
    "* `git checkout <nom>` pour basculer sur la branche `<nom>`\n",
    "\n",
    "### Travailler sur la nouvelle branche\n",
    "On travaille sur les fichiers du répertoire projet à l'aide de l'IDE\n",
    "\n",
    "Les commit sur la nouvelle branche se font à l'aide de `git add` et de `git commit...`\n",
    "\n",
    "Pour mettre à jour le dépôt distant avec la nouvelle branche et ses différente version : `git push origine <branche>`\n",
    "\n",
    "### Fusionner les modification avec la branche principale (i.e., master)\n",
    "Se positionner sur la branche principale grace à `git checkout master` et faire une demande de merge avec la nouvelle branche `git merge <branche>`\n",
    "\n",
    "### Pousser les modifications sur le répo distant et faire le nettoyage (supprimer les branches inutiles)\n",
    "Attention : ne pas oublier le `git push origin master` pour mettre à jours la branche master du dépôt distant une fois que l'opération de merge est terminée.\n",
    "\n",
    "Il est également souhaitable de détruire la branche de travail une fois les modificaions réalisées. Celle-ci n'est plus utile : `git branch -d <nom>` + mise à jour du dépot distant `git push origin --delete <branch>` (ex. `git push origine --delete git-branch`)"
   ]
  },
  {
   "cell_type": "markdown",
   "metadata": {},
   "source": [
    "## Travailler à partir d'un répo distant\n",
    "Ici on va voir comment construire un répo local a partir d'un répo distant pour ensuite travailler sur le répo local et mettre à jour le répo distant.\n",
    "\n",
    "### Rechercher un projet sur GitHub\n",
    "Sur GitHub ou sur un gestionnaire de répo distant, il est possible de visualiser des répo public ou la liste des répo public associés à une organisation.\n",
    "\n",
    "<img src=\".images/im2.png\" style=\"width: 400px;\"/>\n",
    "\n",
    "Une fois le répo distant choisi, il est possible de récupérer l'url d'accès au répo qui sera utilisé dans les commandes git\n",
    "\n",
    "<img src=\".images/im3.png\" style=\"width: 400px;\"/>\n",
    "\n",
    "## Cloner le repo distant et travailler dessus\n",
    "L'opération de clonage consiste à copier le répo distant sur sa machine locale, afin de pouvoir travailler dessus (i.e., création des espaces de travail, de staging et le dépôt local) via `git clone <url>`\n",
    "\n",
    "Une fois le dépôt distant cloné, il ne reste plus qu'a travailler dessus :\n",
    "\n",
    "* `git remote add <origin> <url>` pour créer le nom local du dépôt distant (s'il n'est pas déjà créé, sinon la commande sort une erreur)\n",
    "* `git branch...`\n",
    "* `git add...` et `git commit -m \"...\"`\n",
    "* `git push -u origine <branche>`"
   ]
  },
  {
   "cell_type": "markdown",
   "metadata": {},
   "source": [
    "## Fusionner ses modifications (quand on travaille en équipe...)\n",
    "Avant de fusionner ses modification avec la branche principale, il faut se synchroniser avec ses collègues. C'est l'objet du `pull request`. Il permet d'informer l'équipe que l'on est prêt à insérer des modifications sur la branche master.\n",
    "\n",
    "En général, le responsable  technique du projet organise une revue des modification et une revue de code avant d'autoriser le merge. Toutes ses opération se passent sur le dépot distant qui fait office de référence.\n",
    "\n",
    "Une fois les modifications effectuées, chaque membre de l'équipe doit extraire (pull) la nouvelle version de la branche master qui servira de base pour créer de nouvelles branches."
   ]
  },
  {
   "cell_type": "markdown",
   "metadata": {},
   "source": [
    "* `git checkout master` et `git merge <branche>`\n",
    "* `git push -u origine master`\n",
    "* `git branch -d <branche>`\n",
    "* `git push --delete <branche>`"
   ]
  }
 ],
 "metadata": {
  "kernelspec": {
   "display_name": "Python 3.10.6 64-bit",
   "language": "python",
   "name": "python3"
  },
  "language_info": {
   "codemirror_mode": {
    "name": "ipython",
    "version": 3
   },
   "file_extension": ".py",
   "mimetype": "text/x-python",
   "name": "python",
   "nbconvert_exporter": "python",
   "pygments_lexer": "ipython3",
   "version": "3.10.6"
  },
  "orig_nbformat": 4,
  "vscode": {
   "interpreter": {
    "hash": "b0fa6594d8f4cbf19f97940f81e996739fb7646882a419484c72d19e05852a7e"
   }
  }
 },
 "nbformat": 4,
 "nbformat_minor": 2
}
